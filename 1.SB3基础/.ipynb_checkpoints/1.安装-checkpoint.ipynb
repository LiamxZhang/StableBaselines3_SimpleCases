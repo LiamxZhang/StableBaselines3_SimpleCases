{
 "cells": [
  {
   "cell_type": "code",
   "execution_count": 3,
   "id": "5ea1f438",
   "metadata": {},
   "outputs": [
    {
     "data": {
      "text/plain": [
       "('2.3.0', '0.28.1')"
      ]
     },
     "execution_count": 3,
     "metadata": {},
     "output_type": "execute_result"
    }
   ],
   "source": [
    "#环境要求\n",
    "#python 3.10\n",
    "#PyTorch 2.2.2+cu121\n",
    "# stable_baselines3 2.3.0\n",
    "# gymnasium 0.28.1\n",
    "\n",
    "\n",
    "#二选一即可\n",
    "#!pip install stable-baselines3[extra]\n",
    "#!pip install git+https://github.com/DLR-RM/stable-baselines3\n",
    "\n",
    "#建议使用0.26.2版本的gym\n",
    "#!pip install gym==0.26.2\n",
    "\n",
    "#测试\n",
    "import stable_baselines3 as sb3\n",
    "import gymnasium as gym\n",
    "\n",
    "sb3.__version__, gym.__version__"
   ]
  },
  {
   "cell_type": "code",
   "execution_count": null,
   "id": "e5485151-2f24-4192-a670-d3f7e5b132f0",
   "metadata": {},
   "outputs": [],
   "source": []
  }
 ],
 "metadata": {
  "kernelspec": {
   "display_name": "Python 3 (ipykernel)",
   "language": "python",
   "name": "python3"
  },
  "language_info": {
   "codemirror_mode": {
    "name": "ipython",
    "version": 3
   },
   "file_extension": ".py",
   "mimetype": "text/x-python",
   "name": "python",
   "nbconvert_exporter": "python",
   "pygments_lexer": "ipython3",
   "version": "3.10.14"
  }
 },
 "nbformat": 4,
 "nbformat_minor": 5
}
